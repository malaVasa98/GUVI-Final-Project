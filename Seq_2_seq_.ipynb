{
  "nbformat": 4,
  "nbformat_minor": 0,
  "metadata": {
    "colab": {
      "provenance": [],
      "gpuType": "T4"
    },
    "kernelspec": {
      "name": "python3",
      "display_name": "Python 3"
    },
    "language_info": {
      "name": "python"
    },
    "accelerator": "GPU"
  },
  "cells": [
    {
      "cell_type": "markdown",
      "source": [
        "**Problem Statement**\n",
        "\n",
        "The aim is to implement and evaluate seq2seq mechanism with attention. The models are trained on a synthetic dataset where the target sequence is the reverse of source sequence. We compare this with seq2seq (without attention) to show how attention mechanism effectively improves the seq2seq performance"
      ],
      "metadata": {
        "id": "ftuy3YoraH8d"
      }
    },
    {
      "cell_type": "code",
      "execution_count": null,
      "metadata": {
        "colab": {
          "base_uri": "https://localhost:8080/"
        },
        "id": "yfbSCiq5YzKH",
        "outputId": "60ebd54c-fad4-4695-cf23-d47c9371bd14"
      },
      "outputs": [
        {
          "output_type": "stream",
          "name": "stdout",
          "text": [
            "Requirement already satisfied: torch in /usr/local/lib/python3.10/dist-packages (2.4.0+cu121)\n",
            "Requirement already satisfied: torchvision in /usr/local/lib/python3.10/dist-packages (0.19.0+cu121)\n",
            "Requirement already satisfied: filelock in /usr/local/lib/python3.10/dist-packages (from torch) (3.15.4)\n",
            "Requirement already satisfied: typing-extensions>=4.8.0 in /usr/local/lib/python3.10/dist-packages (from torch) (4.12.2)\n",
            "Requirement already satisfied: sympy in /usr/local/lib/python3.10/dist-packages (from torch) (1.13.2)\n",
            "Requirement already satisfied: networkx in /usr/local/lib/python3.10/dist-packages (from torch) (3.3)\n",
            "Requirement already satisfied: jinja2 in /usr/local/lib/python3.10/dist-packages (from torch) (3.1.4)\n",
            "Requirement already satisfied: fsspec in /usr/local/lib/python3.10/dist-packages (from torch) (2024.6.1)\n",
            "Requirement already satisfied: numpy in /usr/local/lib/python3.10/dist-packages (from torchvision) (1.26.4)\n",
            "Requirement already satisfied: pillow!=8.3.*,>=5.3.0 in /usr/local/lib/python3.10/dist-packages (from torchvision) (9.4.0)\n",
            "Requirement already satisfied: MarkupSafe>=2.0 in /usr/local/lib/python3.10/dist-packages (from jinja2->torch) (2.1.5)\n",
            "Requirement already satisfied: mpmath<1.4,>=1.1.0 in /usr/local/lib/python3.10/dist-packages (from sympy->torch) (1.3.0)\n"
          ]
        }
      ],
      "source": [
        "!pip install torch torchvision"
      ]
    },
    {
      "cell_type": "code",
      "source": [
        "# Seq2seq model with attention\n",
        "import torch\n",
        "import torch.nn as nn\n",
        "import torch.optim as optim\n",
        "import random\n",
        "import numpy as np\n",
        "from torch.utils.data import Dataset, DataLoader\n",
        "\n",
        "# Device configuration\n",
        "device = torch.device('cuda' if torch.cuda.is_available() else 'cpu')\n",
        "\n",
        "# Generate dummy data\n",
        "def generate_data(num_samples, seq_len, vocab_size):\n",
        "    data = []\n",
        "    for _ in range(num_samples):\n",
        "        src = [random.randint(1, vocab_size-1) for _ in range(seq_len)]\n",
        "        tgt = src[::-1]  # Reverse the source sequence for the target\n",
        "        data.append((src, tgt))\n",
        "    return data\n",
        "\n",
        "vocab_size = 20\n",
        "seq_len = 10\n",
        "num_samples_train = 10000\n",
        "num_samples_test = 1000\n",
        "data_train = generate_data(num_samples_train, seq_len, vocab_size)\n",
        "data_test = generate_data(num_samples_test, seq_len, vocab_size)\n",
        "\n",
        "# Define dummy vocab (for demonstration purposes)\n",
        "vocab = {str(i): i for i in range(vocab_size)}\n",
        "\n"
      ],
      "metadata": {
        "id": "zWbE0l_uAe5q"
      },
      "execution_count": null,
      "outputs": []
    },
    {
      "cell_type": "code",
      "source": [
        "class Seq2SeqDataset(Dataset):\n",
        "    def __init__(self, data):\n",
        "        self.data = data\n",
        "\n",
        "    def __len__(self):\n",
        "        return len(self.data)\n",
        "\n",
        "    def __getitem__(self, idx):\n",
        "        src, tgt = self.data[idx]\n",
        "        return torch.tensor(src, dtype=torch.long), torch.tensor(tgt, dtype=torch.long)\n",
        "\n",
        "train_dataset = Seq2SeqDataset(data_train)\n",
        "train_dataloader = DataLoader(train_dataset, batch_size=32, shuffle=True)\n",
        "test_dataset = Seq2SeqDataset(data_test)\n",
        "test_dataloader = DataLoader(test_dataset, batch_size=32, shuffle=True)\n"
      ],
      "metadata": {
        "id": "wHyQXLTYRqCN"
      },
      "execution_count": null,
      "outputs": []
    },
    {
      "cell_type": "code",
      "source": [
        "class Attention(nn.Module):\n",
        "    def __init__(self, hidden_size):\n",
        "        super(Attention, self).__init__()\n",
        "        self.attn = nn.Linear(hidden_size * 2, hidden_size)\n",
        "        self.v = nn.Parameter(torch.rand(hidden_size))\n",
        "\n",
        "    def forward(self, hidden, encoder_outputs):\n",
        "        max_len = encoder_outputs.size(1)\n",
        "        H = hidden.repeat(max_len, 1, 1).transpose(0, 1)\n",
        "        attn_energies = self.score(H, encoder_outputs)\n",
        "        return torch.softmax(attn_energies, dim=1).unsqueeze(1)\n",
        "\n",
        "    def score(self, hidden, encoder_outputs):\n",
        "        energy = torch.tanh(self.attn(torch.cat([hidden, encoder_outputs], 2)))\n",
        "        energy = energy.transpose(1, 2)\n",
        "        v = self.v.repeat(encoder_outputs.size(0), 1).unsqueeze(1)\n",
        "        energy = torch.bmm(v, energy)\n",
        "        return energy.squeeze(1)\n",
        "\n",
        "class Encoder(nn.Module):\n",
        "    def __init__(self, input_size, embed_size, hidden_size, num_layers):\n",
        "        super(Encoder, self).__init__()\n",
        "        self.embedding = nn.Embedding(input_size, embed_size)\n",
        "        self.lstm = nn.LSTM(embed_size, hidden_size, num_layers, batch_first=True)\n",
        "\n",
        "    def forward(self, x):\n",
        "        embedding = self.embedding(x)\n",
        "        outputs, (hidden, cell) = self.lstm(embedding)\n",
        "        return outputs, hidden, cell\n",
        "\n",
        "class Decoder(nn.Module):\n",
        "    def __init__(self, output_size, embed_size, hidden_size, num_layers, attention):\n",
        "        super(Decoder, self).__init__()\n",
        "        self.output_size = output_size\n",
        "        self.attention = attention\n",
        "        self.embedding = nn.Embedding(output_size, embed_size)\n",
        "        self.lstm = nn.LSTM(hidden_size + embed_size, hidden_size, num_layers, batch_first=True)\n",
        "        self.fc = nn.Linear(hidden_size, output_size)\n",
        "\n",
        "    def forward(self, x, hidden, cell, encoder_outputs):\n",
        "        x = x.unsqueeze(1)\n",
        "        embedding = self.embedding(x)\n",
        "        attn_weights = self.attention(hidden[-1], encoder_outputs)\n",
        "        context = attn_weights.bmm(encoder_outputs)\n",
        "        rnn_input = torch.cat((embedding, context), dim=2)\n",
        "        outputs, (hidden, cell) = self.lstm(rnn_input, (hidden, cell))\n",
        "        predictions = self.fc(outputs.squeeze(1))\n",
        "        return predictions, hidden, cell\n",
        "\n",
        "class Seq2Seq(nn.Module):\n",
        "    def __init__(self, encoder, decoder):\n",
        "        super(Seq2Seq, self).__init__()\n",
        "        self.encoder = encoder\n",
        "        self.decoder = decoder\n",
        "\n",
        "    def forward(self, source, target, teacher_forcing_ratio=0.5):\n",
        "        batch_size = source.shape[0]\n",
        "        target_len = target.shape[1]\n",
        "        target_vocab_size = self.decoder.output_size\n",
        "\n",
        "        outputs = torch.zeros(batch_size, target_len, target_vocab_size).to(device)\n",
        "\n",
        "        encoder_outputs, hidden, cell = self.encoder(source)\n",
        "\n",
        "        x = target[:, 0]\n",
        "\n",
        "        for t in range(1, target_len):\n",
        "            output, hidden, cell = self.decoder(x, hidden, cell, encoder_outputs)\n",
        "            outputs[:, t, :] = output\n",
        "            best_guess = output.argmax(1)\n",
        "            x = target[:, t] if random.random() < teacher_forcing_ratio else best_guess\n",
        "\n",
        "        return outputs\n",
        "\n",
        "# Initialize the model\n",
        "input_size = vocab_size\n",
        "output_size = vocab_size\n",
        "embed_size = 256\n",
        "hidden_size = 512\n",
        "num_layers = 2\n",
        "\n",
        "attention = Attention(hidden_size)\n",
        "encoder = Encoder(input_size, embed_size, hidden_size, num_layers).to(device)\n",
        "decoder = Decoder(output_size, embed_size, hidden_size, num_layers, attention).to(device)\n",
        "model = Seq2Seq(encoder, decoder).to(device)\n",
        "\n",
        "# Loss and optimizer\n",
        "criterion = nn.CrossEntropyLoss()\n",
        "optimizer = optim.Adam(model.parameters(), lr=0.001)\n"
      ],
      "metadata": {
        "id": "rnXjcri4ZYC4"
      },
      "execution_count": null,
      "outputs": []
    },
    {
      "cell_type": "code",
      "source": [
        "import matplotlib.pyplot as plt\n",
        "num_epochs = 15\n",
        "training_loss = []\n",
        "for epoch in range(num_epochs):\n",
        "    model.train()\n",
        "    total_loss = 0\n",
        "    for i, (src, tgt) in enumerate(train_dataloader):\n",
        "        src, tgt = src.to(device), tgt.to(device)\n",
        "\n",
        "        optimizer.zero_grad()\n",
        "        output = model(src, tgt)\n",
        "\n",
        "        output = output[:, 1:].reshape(-1, output.shape[2])\n",
        "        tgt = tgt[:, 1:].reshape(-1)\n",
        "\n",
        "        loss = criterion(output, tgt)\n",
        "        loss.backward()\n",
        "        optimizer.step()\n",
        "        total_loss += loss.item()\n",
        "    avg_loss = total_loss / len(train_dataloader)\n",
        "    training_loss.append(avg_loss)\n",
        "    print(f'Epoch [{epoch+1}/{num_epochs}], Loss: {loss.item():.4f}')\n",
        "    #print(training_loss)\n",
        "\n",
        "# Plot the Loss\n",
        "plt.plot(training_loss)\n",
        "plt.xlabel('Epochs')\n",
        "plt.title('Training Loss - Seq2Seq with attention')\n",
        "plt.ylabel('Loss')\n",
        "plt.show()"
      ],
      "metadata": {
        "colab": {
          "base_uri": "https://localhost:8080/",
          "height": 732
        },
        "id": "tcQCFO60Z-66",
        "outputId": "72483387-7f78-427b-c758-9792d56d9cd9"
      },
      "execution_count": null,
      "outputs": [
        {
          "output_type": "stream",
          "name": "stdout",
          "text": [
            "Epoch [1/15], Loss: 0.1614\n",
            "Epoch [2/15], Loss: 0.0068\n",
            "Epoch [3/15], Loss: 0.0039\n",
            "Epoch [4/15], Loss: 0.0094\n",
            "Epoch [5/15], Loss: 0.0006\n",
            "Epoch [6/15], Loss: 0.0076\n",
            "Epoch [7/15], Loss: 0.0022\n",
            "Epoch [8/15], Loss: 0.0002\n",
            "Epoch [9/15], Loss: 0.0001\n",
            "Epoch [10/15], Loss: 0.0001\n",
            "Epoch [11/15], Loss: 0.0000\n",
            "Epoch [12/15], Loss: 0.0000\n",
            "Epoch [13/15], Loss: 0.0000\n",
            "Epoch [14/15], Loss: 0.0000\n",
            "Epoch [15/15], Loss: 0.0000\n"
          ]
        },
        {
          "output_type": "display_data",
          "data": {
            "text/plain": [
              "<Figure size 640x480 with 1 Axes>"
            ],
            "image/png": "[encoded data removed]"
          },
          "metadata": {}
        }
      ]
    },
    {
      "cell_type": "code",
      "source": [
        "from sklearn.metrics import accuracy_score, precision_score\n",
        "model.eval()\n",
        "with torch.no_grad():\n",
        "    for i, (src, tgt) in enumerate(test_dataloader):\n",
        "        src, tgt = src.to(device), tgt.to(device)\n",
        "\n",
        "        output = model(src, tgt, teacher_forcing_ratio=0)\n",
        "        output = output[:, 1:].reshape(-1, output.shape[2])\n",
        "        tgt = tgt[:, 1:].reshape(-1)\n",
        "\n",
        "        pred = output.argmax(1).view(-1, seq_len-1)\n",
        "        print(f'Source: {src[0].cpu().numpy()}')\n",
        "        print(f'Target: {tgt.view(-1, seq_len-1)[0].cpu().numpy()}')\n",
        "        print(f'Predicted: {pred[0].cpu().numpy()}')\n",
        "\n",
        "        preds = output.argmax(1).cpu().numpy()\n",
        "        trues = tgt.cpu().numpy()\n",
        "        break\n",
        "    accuracy = accuracy_score(preds,trues)\n",
        "    precision = precision_score(preds,trues,average='weighted')\n",
        "print(f\"Accuracy:{accuracy*100 :.2f}%\")\n",
        "print(f\"Precison:{precision*100 :.2f}%\")"
      ],
      "metadata": {
        "colab": {
          "base_uri": "https://localhost:8080/"
        },
        "id": "QM8I1g-xgr64",
        "outputId": "ac8cdb9f-be55-43f5-f3fb-ca75fdd6e96c"
      },
      "execution_count": null,
      "outputs": [
        {
          "output_type": "stream",
          "name": "stdout",
          "text": [
            "Source: [17  6  8 10  5 18 15 18  4  2]\n",
            "Target: [ 4 18 15 18  5 10  8  6 17]\n",
            "Predicted: [ 4 18 15 18  5 10  8  6 17]\n",
            "Accuracy:100.00%\n",
            "Precison:100.00%\n"
          ]
        }
      ]
    },
    {
      "cell_type": "code",
      "source": [
        "# Seq2Seq without attention\n",
        "# The encoder reads the entire input sequence and converts it single fixed size context vector\n",
        "# before passing it to the decoder to generate the output.\n",
        "\n",
        "# While with attention, the attention mechanism allows the decoder to access\n",
        "# the entire set of hidden states from the encoder at every decoding step.\n",
        "\n",
        "# At each step of decoding, the model learns to focus on different parts of the input sequence,\n",
        "# dynamically weighting the importance of each input token based on its relevance to the current output being generated."
      ],
      "metadata": {
        "id": "imXU6naJbdVq"
      },
      "execution_count": null,
      "outputs": []
    },
    {
      "cell_type": "code",
      "source": [
        "vocab_size = 20\n",
        "seq_len = 10\n",
        "num_samples_train = 10000\n",
        "num_samples_test = 1000\n",
        "data_train = generate_data(num_samples_train, seq_len, vocab_size)\n",
        "data_test = generate_data(num_samples_test, seq_len, vocab_size)\n",
        "\n",
        "# Define dummy vocab (for demonstration purposes)\n",
        "vocab = {str(i): i for i in range(vocab_size)}\n",
        "\n",
        "train_dataset = Seq2SeqDataset(data_train)\n",
        "train_dataloader = DataLoader(train_dataset, batch_size=32, shuffle=True)\n",
        "test_dataset = Seq2SeqDataset(data_test)\n",
        "test_dataloader = DataLoader(test_dataset, batch_size=32, shuffle=True)"
      ],
      "metadata": {
        "id": "H_mHGm77yG-k"
      },
      "execution_count": null,
      "outputs": []
    },
    {
      "cell_type": "code",
      "source": [
        "# Encoder\n",
        "class Encoder_no_att(nn.Module):\n",
        "    def __init__(self, input_dim, emb_dim, hidden_dim, num_layers):\n",
        "        super(Encoder_no_att, self).__init__()\n",
        "        self.embedding = nn.Embedding(input_dim, emb_dim)\n",
        "        self.lstm = nn.LSTM(emb_dim, hidden_dim, num_layers, batch_first=True)\n",
        "\n",
        "    def forward(self, src):\n",
        "        embedded = self.embedding(src)\n",
        "        outputs, (hidden, cell) = self.lstm(embedded)\n",
        "        return hidden, cell\n",
        "\n",
        "# Decoder\n",
        "class Decoder_no_att(nn.Module):\n",
        "    def __init__(self, output_dim, emb_dim, hidden_dim, num_layers):\n",
        "        super(Decoder_no_att, self).__init__()\n",
        "        self.embedding = nn.Embedding(output_dim, emb_dim)\n",
        "        self.lstm = nn.LSTM(emb_dim, hidden_dim, num_layers, batch_first=True)\n",
        "        self.fc = nn.Linear(hidden_dim, output_dim)\n",
        "\n",
        "    def forward(self, trg, hidden, cell):\n",
        "        trg = trg.unsqueeze(1)\n",
        "        embedded = self.embedding(trg)\n",
        "        output, (hidden, cell) = self.lstm(embedded, (hidden, cell))\n",
        "        prediction = self.fc(output.squeeze(1))\n",
        "        return prediction, hidden, cell\n",
        "\n",
        "# Seq2Seq\n",
        "class Seq2Seq_no_att(nn.Module):\n",
        "    def __init__(self, encoder, decoder, device):\n",
        "        super(Seq2Seq_no_att, self).__init__()\n",
        "        self.encoder = encoder\n",
        "        self.decoder = decoder\n",
        "        self.device = device\n",
        "\n",
        "    def forward(self, src, trg, teacher_forcing_ratio=0.5):\n",
        "        batch_size = src.shape[0]\n",
        "        trg_len = trg.shape[1]\n",
        "        trg_vocab_size = self.decoder.fc.out_features\n",
        "\n",
        "        outputs = torch.zeros(batch_size, trg_len, trg_vocab_size).to(self.device)\n",
        "\n",
        "        hidden, cell = self.encoder(src)\n",
        "        input = trg[:, 0]\n",
        "\n",
        "        for t in range(1, trg_len):\n",
        "            output, hidden, cell = self.decoder(input, hidden, cell)\n",
        "            outputs[:, t, :] = output\n",
        "            teacher_force = random.random() < teacher_forcing_ratio\n",
        "            top1 = output.argmax(1)\n",
        "            input = trg[:, t] if teacher_force else top1\n",
        "\n",
        "        return outputs\n",
        "# Hyperparameters\n",
        "INPUT_DIM = vocab_size  # Same as vocab size\n",
        "OUTPUT_DIM = vocab_size  # Same as vocab size\n",
        "ENC_EMB_DIM = 128\n",
        "DEC_EMB_DIM = 128\n",
        "HIDDEN_DIM = 256\n",
        "NUM_LAYERS = 2\n",
        "LEARNING_RATE = 0.001\n",
        "\n",
        "encoder = Encoder_no_att(INPUT_DIM, ENC_EMB_DIM, HIDDEN_DIM, NUM_LAYERS).to(device)\n",
        "decoder = Decoder_no_att(OUTPUT_DIM, DEC_EMB_DIM, HIDDEN_DIM, NUM_LAYERS).to(device)\n",
        "model_no_att = Seq2Seq_no_att(encoder, decoder, device).to(device)\n",
        "\n",
        "optimizer = optim.Adam(model_no_att.parameters(), lr=LEARNING_RATE)\n",
        "criterion = nn.CrossEntropyLoss()"
      ],
      "metadata": {
        "id": "saKej5dUyun8"
      },
      "execution_count": null,
      "outputs": []
    },
    {
      "cell_type": "code",
      "source": [
        "import matplotlib.pyplot as plt\n",
        "num_epochs = 15\n",
        "training_loss = []\n",
        "for epoch in range(num_epochs):\n",
        "    model_no_att.train()\n",
        "    total_loss = 0\n",
        "    for i, (src, tgt) in enumerate(train_dataloader):\n",
        "        src, tgt = src.to(device), tgt.to(device)\n",
        "\n",
        "        optimizer.zero_grad()\n",
        "        output = model_no_att(src, tgt)\n",
        "\n",
        "        output = output[:, 1:].reshape(-1, output.shape[2])\n",
        "        tgt = tgt[:, 1:].reshape(-1)\n",
        "\n",
        "        loss = criterion(output, tgt)\n",
        "        loss.backward()\n",
        "        #torch.nn.utils.clip_grad_norm_(model_no_att.parameters(), CLIP)\n",
        "        optimizer.step()\n",
        "        total_loss += loss.item()\n",
        "    avg_loss = total_loss / len(train_dataloader)\n",
        "    training_loss.append(avg_loss)\n",
        "    print(f'Epoch [{epoch+1}/{num_epochs}], Loss: {loss.item():.4f}')\n",
        "    #print(training_loss)\n",
        "\n",
        "# Plot the Loss\n",
        "plt.plot(training_loss)\n",
        "plt.xlabel('Epochs')\n",
        "plt.title('Training Loss - Seq2Seq without attention')\n",
        "plt.ylabel('Loss')\n",
        "plt.show()"
      ],
      "metadata": {
        "colab": {
          "base_uri": "https://localhost:8080/",
          "height": 732
        },
        "id": "vhINQwpHhSJ8",
        "outputId": "4dbc628e-1769-467c-ca74-2d7000f8d544"
      },
      "execution_count": null,
      "outputs": [
        {
          "output_type": "stream",
          "name": "stdout",
          "text": [
            "Epoch [1/15], Loss: 1.0609\n",
            "Epoch [2/15], Loss: 0.2661\n",
            "Epoch [3/15], Loss: 0.0820\n",
            "Epoch [4/15], Loss: 0.0922\n",
            "Epoch [5/15], Loss: 0.0086\n",
            "Epoch [6/15], Loss: 0.0031\n",
            "Epoch [7/15], Loss: 0.0020\n",
            "Epoch [8/15], Loss: 0.0013\n",
            "Epoch [9/15], Loss: 0.0012\n",
            "Epoch [10/15], Loss: 0.0009\n",
            "Epoch [11/15], Loss: 0.0007\n",
            "Epoch [12/15], Loss: 0.0005\n",
            "Epoch [13/15], Loss: 0.0005\n",
            "Epoch [14/15], Loss: 0.0003\n",
            "Epoch [15/15], Loss: 0.0003\n"
          ]
        },
        {
          "output_type": "display_data",
          "data": {
            "text/plain": [
              "<Figure size 640x480 with 1 Axes>"
            ],
            "image/png": "[encoded data removed]"
          },
          "metadata": {}
        }
      ]
    },
    {
      "cell_type": "code",
      "source": [
        "from sklearn.metrics import accuracy_score, precision_score\n",
        "model_no_att.eval()\n",
        "with torch.no_grad():\n",
        "    for i, (src, tgt) in enumerate(test_dataloader):\n",
        "        src, tgt = src.to(device), tgt.to(device)\n",
        "\n",
        "        output = model_no_att(src, tgt, teacher_forcing_ratio=0)\n",
        "        output = output[:, 1:].reshape(-1, output.shape[2])\n",
        "        tgt = tgt[:, 1:].reshape(-1)\n",
        "\n",
        "        pred = output.argmax(1).view(-1, seq_len-1)\n",
        "        print(f'Source: {src[0].cpu().numpy()}')\n",
        "        print(f'Target: {tgt.view(-1, seq_len-1)[0].cpu().numpy()}')\n",
        "        print(f'Predicted: {pred[0].cpu().numpy()}')\n",
        "\n",
        "        preds = output.argmax(1).cpu().numpy()\n",
        "        trues = tgt.cpu().numpy()\n",
        "        break\n",
        "    accuracy = accuracy_score(preds,trues)\n",
        "    precision = precision_score(preds,trues,average='weighted')\n",
        "print(f\"Accuracy:{accuracy*100 :.2f}%\")\n",
        "print(f\"Precison:{precision*100 :.2f}%\")"
      ],
      "metadata": {
        "colab": {
          "base_uri": "https://localhost:8080/"
        },
        "id": "5978MGhXrx1F",
        "outputId": "b3f94428-6eb7-45d3-8e5b-a5dd9df9a758"
      },
      "execution_count": null,
      "outputs": [
        {
          "output_type": "stream",
          "name": "stdout",
          "text": [
            "Source: [ 8  4  6  8  5  9 12 18  7  4]\n",
            "Target: [ 7 18 12  9  5  8  6  4  8]\n",
            "Predicted: [ 7 18 12  9  5  8  6  4  8]\n",
            "Accuracy:100.00%\n",
            "Precison:100.00%\n"
          ]
        }
      ]
    },
    {
      "cell_type": "code",
      "source": [
        "# Seq2Seq with attention larger vocabulary size\n",
        "vocab_size = 1000\n",
        "seq_len = 50\n",
        "num_samples_train = 10000\n",
        "num_samples_test = 1000\n",
        "data_train = generate_data(num_samples_train, seq_len, vocab_size)\n",
        "data_test = generate_data(num_samples_test, seq_len, vocab_size)\n",
        "\n",
        "# Define dummy vocab (for demonstration purposes)\n",
        "vocab = {str(i): i for i in range(vocab_size)}\n",
        "\n",
        "train_dataset = Seq2SeqDataset(data_train)\n",
        "train_dataloader = DataLoader(train_dataset, batch_size=32, shuffle=True)\n",
        "test_dataset = Seq2SeqDataset(data_test)\n",
        "test_dataloader = DataLoader(test_dataset, batch_size=32, shuffle=True)\n",
        "\n",
        "input_size = vocab_size\n",
        "output_size = vocab_size\n",
        "embed_size = 256\n",
        "hidden_size = 512\n",
        "num_layers = 2\n",
        "\n",
        "attention = Attention(hidden_size)\n",
        "encoder = Encoder(input_size, embed_size, hidden_size, num_layers).to(device)\n",
        "decoder = Decoder(output_size, embed_size, hidden_size, num_layers, attention).to(device)\n",
        "model_big_vocab = Seq2Seq(encoder, decoder).to(device)\n",
        "\n",
        "# Loss and optimizer\n",
        "criterion = nn.CrossEntropyLoss()\n",
        "optimizer = optim.Adam(model_big_vocab.parameters(), lr=0.001)"
      ],
      "metadata": {
        "id": "wdk5G1RpmAfM"
      },
      "execution_count": null,
      "outputs": []
    },
    {
      "cell_type": "code",
      "source": [
        "import matplotlib.pyplot as plt\n",
        "num_epochs = 20\n",
        "training_loss = []\n",
        "for epoch in range(num_epochs):\n",
        "    model_big_vocab.train()\n",
        "    total_loss = 0\n",
        "    for i, (src, tgt) in enumerate(train_dataloader):\n",
        "        src, tgt = src.to(device), tgt.to(device)\n",
        "\n",
        "        optimizer.zero_grad()\n",
        "        output = model_big_vocab(src, tgt)\n",
        "\n",
        "        output = output[:, 1:].reshape(-1, output.shape[2])\n",
        "        tgt = tgt[:, 1:].reshape(-1)\n",
        "\n",
        "        loss = criterion(output, tgt)\n",
        "        loss.backward()\n",
        "        optimizer.step()\n",
        "        total_loss += loss.item()\n",
        "    avg_loss = total_loss / len(train_dataloader)\n",
        "    training_loss.append(avg_loss)\n",
        "    print(f'Epoch [{epoch+1}/{num_epochs}], Loss: {loss.item():.4f}')\n",
        "    #print(training_loss)\n",
        "\n",
        "# Plot the Loss\n",
        "plt.plot(training_loss)\n",
        "plt.xlabel('Epochs')\n",
        "plt.title('Training Loss - Seq2Seq with attention')\n",
        "plt.ylabel('Loss')\n",
        "plt.show()"
      ],
      "metadata": {
        "colab": {
          "base_uri": "https://localhost:8080/",
          "height": 819
        },
        "id": "8pAg9wmbtruy",
        "outputId": "338a9ca9-92f1-4e3d-f3ba-ed6f5bdcceff"
      },
      "execution_count": null,
      "outputs": [
        {
          "output_type": "stream",
          "name": "stdout",
          "text": [
            "Epoch [1/20], Loss: 6.7909\n",
            "Epoch [2/20], Loss: 5.7930\n",
            "Epoch [3/20], Loss: 5.8717\n",
            "Epoch [4/20], Loss: 4.8691\n",
            "Epoch [5/20], Loss: 4.4571\n",
            "Epoch [6/20], Loss: 1.4326\n",
            "Epoch [7/20], Loss: 6.9098\n",
            "Epoch [8/20], Loss: 6.8688\n",
            "Epoch [9/20], Loss: 6.7705\n",
            "Epoch [10/20], Loss: 6.5722\n",
            "Epoch [11/20], Loss: 6.0472\n",
            "Epoch [12/20], Loss: 4.6412\n",
            "Epoch [13/20], Loss: 1.6659\n",
            "Epoch [14/20], Loss: 1.2628\n",
            "Epoch [15/20], Loss: 1.0958\n",
            "Epoch [16/20], Loss: 0.1821\n",
            "Epoch [17/20], Loss: 5.8440\n",
            "Epoch [18/20], Loss: 0.0786\n",
            "Epoch [19/20], Loss: 0.0347\n",
            "Epoch [20/20], Loss: 0.0385\n"
          ]
        },
        {
          "output_type": "display_data",
          "data": {
            "text/plain": [
              "<Figure size 640x480 with 1 Axes>"
            ],
            "image/png": "[encoded data removed]"
          },
          "metadata": {}
        }
      ]
    },
    {
      "cell_type": "code",
      "source": [
        "from sklearn.metrics import accuracy_score, precision_score\n",
        "model_big_vocab.eval()\n",
        "with torch.no_grad():\n",
        "    for i, (src, tgt) in enumerate(test_dataloader):\n",
        "        src, tgt = src.to(device), tgt.to(device)\n",
        "\n",
        "        output = model_big_vocab(src, tgt, teacher_forcing_ratio=0)\n",
        "        output = output[:, 1:].reshape(-1, output.shape[2])\n",
        "        tgt = tgt[:, 1:].reshape(-1)\n",
        "\n",
        "        pred = output.argmax(1).view(-1, seq_len-1)\n",
        "        print(f'Source: {src[0].cpu().numpy()}')\n",
        "        print(f'Target: {tgt.view(-1, seq_len-1)[0].cpu().numpy()}')\n",
        "        print(f'Predicted: {pred[0].cpu().numpy()}')\n",
        "\n",
        "        preds = output.argmax(1).cpu().numpy()\n",
        "        trues = tgt.cpu().numpy()\n",
        "        break\n",
        "    accuracy = accuracy_score(preds,trues)\n",
        "    precision = precision_score(preds,trues,average='micro')\n",
        "print(f\"Accuracy:{accuracy*100 :.2f}%\")\n",
        "print(f\"Precison:{precision*100 :.2f}%\")"
      ],
      "metadata": {
        "colab": {
          "base_uri": "https://localhost:8080/"
        },
        "id": "JkioKBg3ovnN",
        "outputId": "6e483b8f-f7a4-4e84-dd0b-963cc5b3a1d3"
      },
      "execution_count": null,
      "outputs": [
        {
          "output_type": "stream",
          "name": "stdout",
          "text": [
            "Source: [118 581  31 980 809 783 497 273  19 644 228 249 178 606 428 150 728 283\n",
            " 135 973 690 713 201 377 214 313  38  51 503 192 809 463 372 804 377  69\n",
            " 801 996 978 401 308 496 582 567 612 605 473 890 876 959]\n",
            "Target: [876 890 473 605 612 567 582 496 308 401 978 996 801  69 377 804 372 463\n",
            " 809 192 503  51  38 313 214 377 201 713 690 973 135 283 728 150 428 606\n",
            " 178 249 228 644  19 273 497 783 809 980  31 581 118]\n",
            "Predicted: [876 890 473 605 612 567 582 496 308 401 978 996 801  69 377 804 372 463\n",
            " 809 192 503  51  38 313 214 377 201 713 690 973 135 283 728 150 428 606\n",
            " 178 249 228 644  19 273 497 783 809 980  31 581 118]\n",
            "Accuracy:99.36%\n",
            "Precison:99.36%\n"
          ]
        }
      ]
    },
    {
      "cell_type": "code",
      "source": [
        "# Seq2Seq without attention larger vocab size\n",
        "vocab_size = 1000\n",
        "seq_len = 50\n",
        "num_samples_train = 10000\n",
        "num_samples_test = 1000\n",
        "data_train = generate_data(num_samples_train, seq_len, vocab_size)\n",
        "data_test = generate_data(num_samples_test, seq_len, vocab_size)\n",
        "\n",
        "# Define dummy vocab (for demonstration purposes)\n",
        "vocab = {str(i): i for i in range(vocab_size)}\n",
        "\n",
        "train_dataset = Seq2SeqDataset(data_train)\n",
        "train_dataloader = DataLoader(train_dataset, batch_size=32, shuffle=True)\n",
        "test_dataset = Seq2SeqDataset(data_test)\n",
        "test_dataloader = DataLoader(test_dataset, batch_size=32, shuffle=True)\n",
        "\n",
        "INPUT_DIM = vocab_size  # Same as vocab size\n",
        "OUTPUT_DIM = vocab_size  # Same as vocab size\n",
        "ENC_EMB_DIM = 128\n",
        "DEC_EMB_DIM = 128\n",
        "HIDDEN_DIM = 256\n",
        "NUM_LAYERS = 2\n",
        "LEARNING_RATE = 0.001\n",
        "\n",
        "encoder = Encoder_no_att(INPUT_DIM, ENC_EMB_DIM, HIDDEN_DIM, NUM_LAYERS).to(device)\n",
        "decoder = Decoder_no_att(OUTPUT_DIM, DEC_EMB_DIM, HIDDEN_DIM, NUM_LAYERS).to(device)\n",
        "model_no_att_big_vocab = Seq2Seq_no_att(encoder, decoder, device).to(device)\n",
        "\n",
        "optimizer = optim.Adam(model_no_att_big_vocab.parameters(), lr=LEARNING_RATE)\n",
        "criterion = nn.CrossEntropyLoss()"
      ],
      "metadata": {
        "id": "dDOd1lur7eyt"
      },
      "execution_count": null,
      "outputs": []
    },
    {
      "cell_type": "code",
      "source": [
        "import matplotlib.pyplot as plt\n",
        "num_epochs = 100\n",
        "training_loss = []\n",
        "for epoch in range(num_epochs):\n",
        "    model_no_att_big_vocab.train()\n",
        "    total_loss = 0\n",
        "    for i, (src, tgt) in enumerate(train_dataloader):\n",
        "        src, tgt = src.to(device), tgt.to(device)\n",
        "\n",
        "        optimizer.zero_grad()\n",
        "        output = model_no_att_big_vocab(src, tgt)\n",
        "\n",
        "        output = output[:, 1:].reshape(-1, output.shape[2])\n",
        "        tgt = tgt[:, 1:].reshape(-1)\n",
        "\n",
        "        loss = criterion(output, tgt)\n",
        "        loss.backward()\n",
        "        #torch.nn.utils.clip_grad_norm_(model_no_att.parameters(), 1)\n",
        "        optimizer.step()\n",
        "        total_loss += loss.item()\n",
        "    avg_loss = total_loss / len(train_dataloader)\n",
        "    training_loss.append(avg_loss)\n",
        "    print(f'Epoch [{epoch+1}/{num_epochs}], Loss: {loss.item():.4f}')\n",
        "    #print(training_loss)\n",
        "\n",
        "# Plot the Loss\n",
        "plt.plot(training_loss)\n",
        "plt.xlabel('Epochs')\n",
        "plt.title('Training Loss - Seq2Seq without attention')\n",
        "plt.ylabel('Loss')\n",
        "plt.show()"
      ],
      "metadata": {
        "colab": {
          "base_uri": "https://localhost:8080/",
          "height": 1000
        },
        "id": "nzrlfjzI8rmU",
        "outputId": "553b6b6a-4c8a-41ac-9e86-d3b2c84936f1"
      },
      "execution_count": null,
      "outputs": [
        {
          "output_type": "stream",
          "name": "stdout",
          "text": [
            "Epoch [1/100], Loss: 6.3836\n",
            "Epoch [2/100], Loss: 6.1822\n",
            "Epoch [3/100], Loss: 5.9879\n",
            "Epoch [4/100], Loss: 5.8110\n",
            "Epoch [5/100], Loss: 5.6668\n",
            "Epoch [6/100], Loss: 5.5454\n",
            "Epoch [7/100], Loss: 5.4507\n",
            "Epoch [8/100], Loss: 5.2835\n",
            "Epoch [9/100], Loss: 5.1497\n",
            "Epoch [10/100], Loss: 5.0869\n",
            "Epoch [11/100], Loss: 4.9674\n",
            "Epoch [12/100], Loss: 4.9558\n",
            "Epoch [13/100], Loss: 4.9235\n",
            "Epoch [14/100], Loss: 4.8195\n",
            "Epoch [15/100], Loss: 4.7593\n",
            "Epoch [16/100], Loss: 4.6193\n",
            "Epoch [17/100], Loss: 4.6491\n",
            "Epoch [18/100], Loss: 4.6470\n",
            "Epoch [19/100], Loss: 4.5603\n",
            "Epoch [20/100], Loss: 4.4702\n",
            "Epoch [21/100], Loss: 4.4563\n",
            "Epoch [22/100], Loss: 4.4576\n",
            "Epoch [23/100], Loss: 4.4457\n",
            "Epoch [24/100], Loss: 4.3334\n",
            "Epoch [25/100], Loss: 4.3115\n",
            "Epoch [26/100], Loss: 4.2248\n",
            "Epoch [27/100], Loss: 4.2935\n",
            "Epoch [28/100], Loss: 4.2453\n",
            "Epoch [29/100], Loss: 4.1968\n",
            "Epoch [30/100], Loss: 4.2114\n",
            "Epoch [31/100], Loss: 4.1197\n",
            "Epoch [32/100], Loss: 4.0991\n",
            "Epoch [33/100], Loss: 4.0340\n",
            "Epoch [34/100], Loss: 4.0693\n",
            "Epoch [35/100], Loss: 3.9803\n",
            "Epoch [36/100], Loss: 4.0801\n",
            "Epoch [37/100], Loss: 4.0040\n",
            "Epoch [38/100], Loss: 3.9066\n",
            "Epoch [39/100], Loss: 3.8934\n",
            "Epoch [40/100], Loss: 3.8692\n",
            "Epoch [41/100], Loss: 3.8167\n",
            "Epoch [42/100], Loss: 3.8856\n",
            "Epoch [43/100], Loss: 3.8551\n",
            "Epoch [44/100], Loss: 3.8359\n",
            "Epoch [45/100], Loss: 3.7921\n",
            "Epoch [46/100], Loss: 3.7829\n",
            "Epoch [47/100], Loss: 3.7487\n",
            "Epoch [48/100], Loss: 3.8147\n",
            "Epoch [49/100], Loss: 3.8297\n",
            "Epoch [50/100], Loss: 3.7337\n",
            "Epoch [51/100], Loss: 3.6876\n",
            "Epoch [52/100], Loss: 3.5871\n",
            "Epoch [53/100], Loss: 3.6100\n",
            "Epoch [54/100], Loss: 3.7754\n",
            "Epoch [55/100], Loss: 3.6415\n",
            "Epoch [56/100], Loss: 3.6449\n",
            "Epoch [57/100], Loss: 3.6172\n",
            "Epoch [58/100], Loss: 3.6014\n",
            "Epoch [59/100], Loss: 3.5981\n",
            "Epoch [60/100], Loss: 3.5495\n",
            "Epoch [61/100], Loss: 3.5748\n",
            "Epoch [62/100], Loss: 3.4974\n",
            "Epoch [63/100], Loss: 3.6150\n",
            "Epoch [64/100], Loss: 3.5749\n",
            "Epoch [65/100], Loss: 3.5293\n",
            "Epoch [66/100], Loss: 3.6805\n",
            "Epoch [67/100], Loss: 3.5698\n",
            "Epoch [68/100], Loss: 3.5019\n",
            "Epoch [69/100], Loss: 3.4654\n",
            "Epoch [70/100], Loss: 3.4555\n",
            "Epoch [71/100], Loss: 3.4291\n",
            "Epoch [72/100], Loss: 3.4159\n",
            "Epoch [73/100], Loss: 3.4390\n",
            "Epoch [74/100], Loss: 3.4625\n",
            "Epoch [75/100], Loss: 3.4923\n",
            "Epoch [76/100], Loss: 3.4725\n",
            "Epoch [77/100], Loss: 3.2995\n",
            "Epoch [78/100], Loss: 3.4321\n",
            "Epoch [79/100], Loss: 3.3476\n",
            "Epoch [80/100], Loss: 3.3721\n",
            "Epoch [81/100], Loss: 3.4456\n",
            "Epoch [82/100], Loss: 3.3249\n",
            "Epoch [83/100], Loss: 3.4178\n",
            "Epoch [84/100], Loss: 3.3993\n",
            "Epoch [85/100], Loss: 3.2697\n",
            "Epoch [86/100], Loss: 3.3921\n",
            "Epoch [87/100], Loss: 3.3132\n",
            "Epoch [88/100], Loss: 3.2758\n",
            "Epoch [89/100], Loss: 3.3546\n",
            "Epoch [90/100], Loss: 3.2646\n",
            "Epoch [91/100], Loss: 3.3559\n",
            "Epoch [92/100], Loss: 3.2971\n",
            "Epoch [93/100], Loss: 3.3194\n",
            "Epoch [94/100], Loss: 3.3737\n",
            "Epoch [95/100], Loss: 3.2782\n",
            "Epoch [96/100], Loss: 3.2122\n",
            "Epoch [97/100], Loss: 3.1821\n",
            "Epoch [98/100], Loss: 3.2020\n",
            "Epoch [99/100], Loss: 3.2343\n",
            "Epoch [100/100], Loss: 3.3824\n"
          ]
        },
        {
          "output_type": "display_data",
          "data": {
            "text/plain": [
              "<Figure size 640x480 with 1 Axes>"
            ],
            "image/png": "[encoded data removed]"
          },
          "metadata": {}
        }
      ]
    },
    {
      "cell_type": "code",
      "source": [
        "from sklearn.metrics import accuracy_score, precision_score\n",
        "model_no_att_big_vocab.eval()\n",
        "with torch.no_grad():\n",
        "    for i, (src, tgt) in enumerate(test_dataloader):\n",
        "        src, tgt = src.to(device), tgt.to(device)\n",
        "\n",
        "        output = model_no_att_big_vocab(src, tgt, teacher_forcing_ratio=0)\n",
        "        output = output[:, 1:].reshape(-1, output.shape[2])\n",
        "        tgt = tgt[:, 1:].reshape(-1)\n",
        "\n",
        "        pred = output.argmax(1).view(-1, seq_len-1)\n",
        "        print(f'Source: {src[0].cpu().numpy()}')\n",
        "        print(f'Target: {tgt.view(-1, seq_len-1)[0].cpu().numpy()}')\n",
        "        print(f'Predicted: {pred[0].cpu().numpy()}')\n",
        "\n",
        "        preds = output.argmax(1).cpu().numpy()\n",
        "        trues = tgt.cpu().numpy()\n",
        "        break\n",
        "    accuracy = accuracy_score(preds,trues)\n",
        "    precision = precision_score(preds,trues,average='micro')\n",
        "print(f\"Accuracy:{accuracy*100 :.2f}%\")\n",
        "print(f\"Precison:{precision*100 :.2f}%\")\n"
      ],
      "metadata": {
        "colab": {
          "base_uri": "https://localhost:8080/"
        },
        "id": "40vPNPhZ_jWN",
        "outputId": "de01e1c2-3272-42c6-a57f-0474f2d70152"
      },
      "execution_count": null,
      "outputs": [
        {
          "output_type": "stream",
          "name": "stdout",
          "text": [
            "Source: [ 78 529 298 208 389 320 552 986 175 828 313 413 412 742 559 405 761 553\n",
            " 740 113 529   6 655 976 669 547 691 974 609 803  65 186 902 130 376  83\n",
            " 519 948 240 706 754 110 330  79 281 814 334 965 550 624]\n",
            "Target: [550 965 334 814 281  79 330 110 754 706 240 948 519  83 376 130 902 186\n",
            "  65 803 609 974 691 547 669 976 655   6 529 113 740 553 761 405 559 742\n",
            " 412 413 313 828 175 986 552 320 389 208 298 529  78]\n",
            "Predicted: [334   9 334 281 281 330 330 330 533 330  51 655 110 706 300 415 658 902\n",
            " 639  21 572 902 300 608 897 897 897 897 897 289 289 126 126 289 289 289\n",
            " 423 179 179 278 179  21 179 592 381 465 552 457 492]\n",
            "Accuracy:3.57%\n",
            "Precison:3.57%\n"
          ]
        }
      ]
    }
  ]
}